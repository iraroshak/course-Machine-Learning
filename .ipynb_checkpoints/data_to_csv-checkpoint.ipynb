{
 "cells": [
  {
   "cell_type": "code",
   "execution_count": 52,
   "metadata": {
    "collapsed": true
   },
   "outputs": [],
   "source": [
    "import pandas as pd\n",
    "from sklearn import svm\n",
    "import os \n",
    "import csv\n",
    "import cv2\n",
    "import numpy as np"
   ]
  },
  {
   "cell_type": "code",
   "execution_count": 53,
   "metadata": {
    "collapsed": false
   },
   "outputs": [
    {
     "data": {
      "text/plain": [
       "['/home/matvii/Стільниця/DEVELOPER/COMPUTER_VISION/dark/data/0/image_uploaded_from_ios_1024 (1).jpg',\n",
       " '/home/matvii/Стільниця/DEVELOPER/COMPUTER_VISION/dark/data/0/6165684_images-cms-image-000009103-1483094672.jpg',\n",
       " '/home/matvii/Стільниця/DEVELOPER/COMPUTER_VISION/dark/data/0/s-l1600 (5).jpg',\n",
       " '/home/matvii/Стільниця/DEVELOPER/COMPUTER_VISION/dark/data/0/4312078_noutbuk-lenovo-ideapad-y510p-core-i7-4700mq-1-tb-hdd-ssd-16gb-ram-34498.jpg',\n",
       " '/home/matvii/Стільниця/DEVELOPER/COMPUTER_VISION/dark/data/0/s-l1600 (1).jpg',\n",
       " '/home/matvii/Стільниця/DEVELOPER/COMPUTER_VISION/dark/data/0/image_uploaded_from_ios (1).jpg',\n",
       " '/home/matvii/Стільниця/DEVELOPER/COMPUTER_VISION/dark/data/0/2235592_mc40-motorola-zebra-mc40n0-scj3r00-2d-1984.jpg',\n",
       " '/home/matvii/Стільниця/DEVELOPER/COMPUTER_VISION/dark/data/0/s-l1600 (2).jpg',\n",
       " '/home/matvii/Стільниця/DEVELOPER/COMPUTER_VISION/dark/data/0/6165767_autowallsru1151-1483093593.jpg',\n",
       " '/home/matvii/Стільниця/DEVELOPER/COMPUTER_VISION/dark/data/0/4312078_noutbuk-lenovo-ideapad-y510p-core-i7-4700mq-1-tb-hdd-ssd-16gb-ram-56447.jpg',\n",
       " '/home/matvii/Стільниця/DEVELOPER/COMPUTER_VISION/dark/data/0/image_uploaded_from_ios_1024 (4).jpg',\n",
       " '/home/matvii/Стільниця/DEVELOPER/COMPUTER_VISION/dark/data/0/image_uploaded_from_ios (3).jpg',\n",
       " '/home/matvii/Стільниця/DEVELOPER/COMPUTER_VISION/dark/data/0/6165736_sky-1482505282.jpg',\n",
       " '/home/matvii/Стільниця/DEVELOPER/COMPUTER_VISION/dark/data/0/s-l500 (2).jpg',\n",
       " '/home/matvii/Стільниця/DEVELOPER/COMPUTER_VISION/dark/data/0/image_uploaded_from_ios_1024.jpg',\n",
       " '/home/matvii/Стільниця/DEVELOPER/COMPUTER_VISION/dark/data/0/4312078_noutbuk-lenovo-ideapad-y510p-core-i7-4700mq-1-tb-hdd-ssd-16gb-ram-12092.jpg',\n",
       " '/home/matvii/Стільниця/DEVELOPER/COMPUTER_VISION/dark/data/0/image_uploaded_from_ios.jpg',\n",
       " '/home/matvii/Стільниця/DEVELOPER/COMPUTER_VISION/dark/data/0/4312078_noutbuk-lenovo-ideapad-y510p-core-i7-4700mq-1-tb-hdd-ssd-16gb-ram-44439.jpg',\n",
       " '/home/matvii/Стільниця/DEVELOPER/COMPUTER_VISION/dark/data/0/s-l1600 (3).jpg',\n",
       " '/home/matvii/Стільниця/DEVELOPER/COMPUTER_VISION/dark/data/0/image_uploaded_from_ios_1024 (2).jpg',\n",
       " '/home/matvii/Стільниця/DEVELOPER/COMPUTER_VISION/dark/data/0/image_uploaded_from_ios_1024 (3).jpg',\n",
       " '/home/matvii/Стільниця/DEVELOPER/COMPUTER_VISION/dark/data/0/s-l500.jpg',\n",
       " '/home/matvii/Стільниця/DEVELOPER/COMPUTER_VISION/dark/data/0/s-l1600 (4).jpg',\n",
       " '/home/matvii/Стільниця/DEVELOPER/COMPUTER_VISION/dark/data/0/image_uploaded_from_ios (2).jpg',\n",
       " '/home/matvii/Стільниця/DEVELOPER/COMPUTER_VISION/dark/data/0/2246473_nokia-e72-telefon-u-dobrom-stanju-sa-malom-pukotinom-u-desnom-uglu-uz-6973.jpg',\n",
       " '/home/matvii/Стільниця/DEVELOPER/COMPUTER_VISION/dark/data/0/s-l1600.jpg',\n",
       " '/home/matvii/Стільниця/DEVELOPER/COMPUTER_VISION/dark/data/0/s-l500 (1).jpg',\n",
       " '/home/matvii/Стільниця/DEVELOPER/COMPUTER_VISION/dark/data/0/4312078_noutbuk-lenovo-ideapad-y510p-core-i7-4700mq-1-tb-hdd-ssd-16gb-ram-24925.jpg',\n",
       " '/home/matvii/Стільниця/DEVELOPER/COMPUTER_VISION/dark/data/0/tut2-result2.jpg',\n",
       " '/home/matvii/Стільниця/DEVELOPER/COMPUTER_VISION/dark/data/0/s-l1600 (6).jpg']"
      ]
     },
     "execution_count": 53,
     "metadata": {},
     "output_type": "execute_result"
    }
   ],
   "source": [
    "images = os.listdir(\"/home/matvii/Стільниця/DEVELOPER/COMPUTER_VISION/dark/data/0\")\n",
    "\n",
    "images = [\"/home/matvii/Стільниця/DEVELOPER/COMPUTER_VISION/dark/data/0/\" + i for i in images]\n",
    "images"
   ]
  },
  {
   "cell_type": "code",
   "execution_count": 54,
   "metadata": {
    "collapsed": true
   },
   "outputs": [],
   "source": [
    "def mean(path):\n",
    "    image = cv2.imread(path)\n",
    "    return np.mean(image)    "
   ]
  },
  {
   "cell_type": "code",
   "execution_count": 55,
   "metadata": {
    "collapsed": true
   },
   "outputs": [],
   "source": [
    "def median(path):\n",
    "    image = cv2.imread(path)\n",
    "    return np.median(image)"
   ]
  },
  {
   "cell_type": "code",
   "execution_count": 56,
   "metadata": {
    "collapsed": true
   },
   "outputs": [],
   "source": [
    "def std(path):\n",
    "    image = cv2.imread(path)\n",
    "    return np.std(image)"
   ]
  },
  {
   "cell_type": "code",
   "execution_count": 57,
   "metadata": {
    "collapsed": false
   },
   "outputs": [],
   "source": [
    "path = \"/home/matvii/Стільниця/DEVELOPER/COMPUTER_VISION/dark/data/\"\n",
    "with open('dataimage.csv', 'w') as csvfile:\n",
    "    fieldnames = ['id', 'mean', 'median', 'lables']\n",
    "    writer = csv.DictWriter(csvfile, fieldnames=fieldnames)\n",
    "\n",
    "    writer.writeheader()\n",
    "    for folder in os.listdir(path):\n",
    "        for i in os.listdir(path + folder):\n",
    "            images = path + folder+ '/' + i\n",
    "            writer.writerow({'id': i, 'mean': mean(images), 'median': median(images), 'lables': folder})\n",
    "    "
   ]
  }
 ],
 "metadata": {
  "anaconda-cloud": {},
  "kernelspec": {
   "display_name": "Python [conda root]",
   "language": "python",
   "name": "conda-root-py"
  },
  "language_info": {
   "codemirror_mode": {
    "name": "ipython",
    "version": 3
   },
   "file_extension": ".py",
   "mimetype": "text/x-python",
   "name": "python",
   "nbconvert_exporter": "python",
   "pygments_lexer": "ipython3",
   "version": "3.5.2"
  }
 },
 "nbformat": 4,
 "nbformat_minor": 1
}
